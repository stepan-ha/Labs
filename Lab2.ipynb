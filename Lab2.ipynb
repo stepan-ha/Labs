{
  "nbformat": 4,
  "nbformat_minor": 0,
  "metadata": {
    "colab": {
      "provenance": [],
      "authorship_tag": "ABX9TyMKNMw0Mioc9iMnxrwRhDBM",
      "include_colab_link": true
    },
    "kernelspec": {
      "name": "python3",
      "display_name": "Python 3"
    },
    "language_info": {
      "name": "python"
    }
  },
  "cells": [
    {
      "cell_type": "markdown",
      "metadata": {
        "id": "view-in-github",
        "colab_type": "text"
      },
      "source": [
        "<a href=\"https://colab.research.google.com/github/stepan-ha/Labs/blob/main/Lab2.ipynb\" target=\"_parent\"><img src=\"https://colab.research.google.com/assets/colab-badge.svg\" alt=\"Open In Colab\"/></a>"
      ]
    },
    {
      "cell_type": "markdown",
      "source": [
        "# Алгоритм розрахунку індивідуальних вхідних даних\n",
        "\n",
        "---\n",
        "\n",
        "Встановіть значення змінної variant: сума номера групи помноженого на 25 і\n",
        "порядкового номеру студента в списку групи (групі ПМОм-11 відповідає номер\n",
        "0, групі ПМІм-11 відповідає номер 1, групі ПМІм-12 відповідає номер 2, групі\n",
        "ПМІм-13 відповідає номер 3). Далі встановіть set.seed(variant) та згенеруйте\n",
        "значення змінної redundant як заокруглене до цілого (для заокруглення можна\n",
        "використати функції floor або round) випадкове число з рівномірного на інтервалі\n",
        "(номер групи + 5, 25 – номер групи) розподілу (функція runif).\n"
      ],
      "metadata": {
        "id": "R2q7SYKQEJwB"
      }
    },
    {
      "cell_type": "code",
      "execution_count": 22,
      "metadata": {
        "id": "K8nI5kNUiug6"
      },
      "outputs": [],
      "source": [
        "import numpy as np\n",
        "import pandas as pd\n",
        "import math\n",
        "import statsmodels.api as sm\n",
        "import matplotlib.pyplot as plt\n",
        "import seaborn as sns\n",
        "import random"
      ]
    },
    {
      "cell_type": "markdown",
      "source": [
        "# Завдання 1\n",
        "\n",
        "---\n",
        "\n",
        " Модифікуйте дані Auto наступним чином: встановивши seed, що дорівнює\n",
        "значенню змінної variant, видаліть redundant % спостережень з допомогою\n",
        "функції sample. Побудуйте просту лінійну регресію з залежною змінною mpg і\n",
        "незалежною – weight. Виведіть та прокоментуйте результати з допомогою\n",
        "summary(). Зобразіть графічно предиктор та залежну змінну. Використовуючи\n",
        "функцію plot(), прокоментуйте які ви бачите проблеми."
      ],
      "metadata": {
        "id": "a13lzP7jEM5a"
      }
    },
    {
      "cell_type": "code",
      "source": [
        "group_number = 2\n",
        "\n",
        "student_number = 5\n",
        "\n",
        "variant = group_number * 25 + student_number\n",
        "print(f\"Мій номер індивідуального завдання: {variant}\")\n",
        "\n",
        "random.seed(variant)\n",
        "\n",
        "redundant = math.floor(random.uniform(group_number + 5, 25 - group_number))\n",
        "print(f\"Redundant: {redundant}%\")\n",
        "\n",
        "df = sns.load_dataset('mpg').dropna()\n",
        "\n",
        "print(df.head())\n",
        "\n",
        "Auto_new = df.drop(df.sample(frac=redundant / 100, random_state=variant).index)\n",
        "\n",
        "print(f\"Початковий розмір: {df.shape}\")\n",
        "print(f\"Новий розмір: {Auto_new.shape}\")"
      ],
      "metadata": {
        "colab": {
          "base_uri": "https://localhost:8080/"
        },
        "id": "gGMdWIHSBbQM",
        "outputId": "5380b9e7-32dd-4ab0-ce75-f85b732c387b"
      },
      "execution_count": 23,
      "outputs": [
        {
          "output_type": "stream",
          "name": "stdout",
          "text": [
            "Мій номер індивідуального завдання: 55\n",
            "Redundant: 8%\n",
            "    mpg  cylinders  displacement  horsepower  weight  acceleration  \\\n",
            "0  18.0          8         307.0       130.0    3504          12.0   \n",
            "1  15.0          8         350.0       165.0    3693          11.5   \n",
            "2  18.0          8         318.0       150.0    3436          11.0   \n",
            "3  16.0          8         304.0       150.0    3433          12.0   \n",
            "4  17.0          8         302.0       140.0    3449          10.5   \n",
            "\n",
            "   model_year origin                       name  \n",
            "0          70    usa  chevrolet chevelle malibu  \n",
            "1          70    usa          buick skylark 320  \n",
            "2          70    usa         plymouth satellite  \n",
            "3          70    usa              amc rebel sst  \n",
            "4          70    usa                ford torino  \n",
            "Початковий розмір: (392, 9)\n",
            "Новий розмір: (361, 9)\n"
          ]
        }
      ]
    },
    {
      "cell_type": "code",
      "source": [
        "X = sm.add_constant(Auto_new['weight'])\n",
        "y = Auto_new['mpg']\n",
        "\n",
        "model = sm.OLS(y, X).fit()\n",
        "print(model.summary())\n",
        "\n",
        "plt.scatter(Auto_new['weight'], Auto_new['mpg'])\n",
        "plt.xlabel('Weight')\n",
        "plt.ylabel('MPG')\n",
        "plt.title('MPG vs Weight')\n",
        "plt.show()"
      ],
      "metadata": {
        "colab": {
          "base_uri": "https://localhost:8080/",
          "height": 954
        },
        "id": "4dQXHmGZB_UN",
        "outputId": "26e25600-7052-49c2-febc-1260ada9865c"
      },
      "execution_count": 25,
      "outputs": [
        {
          "output_type": "stream",
          "name": "stdout",
          "text": [
            "                            OLS Regression Results                            \n",
            "==============================================================================\n",
            "Dep. Variable:                    mpg   R-squared:                       0.688\n",
            "Model:                            OLS   Adj. R-squared:                  0.687\n",
            "Method:                 Least Squares   F-statistic:                     791.6\n",
            "Date:                Sat, 05 Oct 2024   Prob (F-statistic):           8.08e-93\n",
            "Time:                        12:56:46   Log-Likelihood:                -1035.9\n",
            "No. Observations:                 361   AIC:                             2076.\n",
            "Df Residuals:                     359   BIC:                             2084.\n",
            "Df Model:                           1                                         \n",
            "Covariance Type:            nonrobust                                         \n",
            "==============================================================================\n",
            "                 coef    std err          t      P>|t|      [0.025      0.975]\n",
            "------------------------------------------------------------------------------\n",
            "const         45.6615      0.825     55.379      0.000      44.040      47.283\n",
            "weight        -0.0075      0.000    -28.136      0.000      -0.008      -0.007\n",
            "==============================================================================\n",
            "Omnibus:                       39.164   Durbin-Watson:                   0.818\n",
            "Prob(Omnibus):                  0.000   Jarque-Bera (JB):               56.340\n",
            "Skew:                           0.732   Prob(JB):                     5.83e-13\n",
            "Kurtosis:                       4.266   Cond. No.                     1.13e+04\n",
            "==============================================================================\n",
            "\n",
            "Notes:\n",
            "[1] Standard Errors assume that the covariance matrix of the errors is correctly specified.\n",
            "[2] The condition number is large, 1.13e+04. This might indicate that there are\n",
            "strong multicollinearity or other numerical problems.\n"
          ]
        },
        {
          "output_type": "display_data",
          "data": {
            "text/plain": [
              "<Figure size 640x480 with 1 Axes>"
            ],
            "image/png": "[encoded data removed]"
          },
          "metadata": {}
        }
      ]
    },
    {
      "cell_type": "markdown",
      "source": [
        "# Завдання 2\n",
        "\n",
        "---\n",
        "\n",
        " Модифікуйте дані Carseats, аналогічно до завдання 1. Побудуйте модель\n",
        "множинної регресії для прогнозування Sales використовуючи Price, Urban, та US.\n",
        "Яку зі змінних можна вилучити з моделі? Побудуйте модель, яка використовує\n",
        "лише ті предиктори, для яких зв’язок з залежною змінною є істотним. Дослідіть\n",
        "отриману модель на наявність викидів та спостережень з високим рівнем\n",
        "левереджу."
      ],
      "metadata": {
        "id": "GXPZVToHEXfM"
      }
    },
    {
      "cell_type": "code",
      "source": [
        "\n",
        "\n",
        "df2 = sm.datasets.get_rdataset('Carseats', 'ISLR').data\n",
        "\n",
        "print(df2.columns)\n",
        "\n",
        "CaeSeats_new = df2.drop(df2.sample(frac=redundant / 100, random_state=variant).index)\n",
        "\n",
        "print(f\"Початковий розмір: {df2.shape}\")\n",
        "print(f\"Новий розмір: {CaeSeats_new.shape}\")\n",
        "\n",
        "CaeSeats_new['Urban'] = CaeSeats_new['Urban'].astype('category')\n",
        "CaeSeats_new['US'] = CaeSeats_new['US'].astype('category')\n",
        "\n",
        "X = CaeSeats_new[['Price', 'Urban', 'US']]\n",
        "X = pd.get_dummies(X, drop_first=True)\n",
        "\n",
        "y = CaeSeats_new['Sales']\n",
        "\n",
        "X = np.asarray(X, dtype=np.float64)\n",
        "y = np.asarray(y, dtype=np.float64)\n",
        "\n",
        "X = sm.add_constant(X)\n",
        "\n",
        "model = sm.OLS(y, X).fit()\n",
        "print(model.summary())\n"
      ],
      "metadata": {
        "colab": {
          "base_uri": "https://localhost:8080/"
        },
        "id": "I3L0j9FRngGz",
        "outputId": "18af9388-204c-4ae0-cc74-3b3c258b69a5"
      },
      "execution_count": 26,
      "outputs": [
        {
          "output_type": "stream",
          "name": "stdout",
          "text": [
            "Index(['Sales', 'CompPrice', 'Income', 'Advertising', 'Population', 'Price',\n",
            "       'ShelveLoc', 'Age', 'Education', 'Urban', 'US'],\n",
            "      dtype='object')\n",
            "Початковий розмір: (400, 11)\n",
            "Новий розмір: (368, 11)\n",
            "                            OLS Regression Results                            \n",
            "==============================================================================\n",
            "Dep. Variable:                      y   R-squared:                       0.249\n",
            "Model:                            OLS   Adj. R-squared:                  0.243\n",
            "Method:                 Least Squares   F-statistic:                     40.29\n",
            "Date:                Sat, 05 Oct 2024   Prob (F-statistic):           1.66e-22\n",
            "Time:                        12:56:49   Log-Likelihood:                -851.10\n",
            "No. Observations:                 368   AIC:                             1710.\n",
            "Df Residuals:                     364   BIC:                             1726.\n",
            "Df Model:                           3                                         \n",
            "Covariance Type:            nonrobust                                         \n",
            "==============================================================================\n",
            "                 coef    std err          t      P>|t|      [0.025      0.975]\n",
            "------------------------------------------------------------------------------\n",
            "const         13.1162      0.674     19.454      0.000      11.790      14.442\n",
            "x1            -0.0547      0.005    -10.225      0.000      -0.065      -0.044\n",
            "x2            -0.0069      0.280     -0.025      0.980      -0.557       0.543\n",
            "x3             1.1602      0.270      4.290      0.000       0.628       1.692\n",
            "==============================================================================\n",
            "Omnibus:                        0.919   Durbin-Watson:                   1.950\n",
            "Prob(Omnibus):                  0.631   Jarque-Bera (JB):                0.997\n",
            "Skew:                           0.115   Prob(JB):                        0.607\n",
            "Kurtosis:                       2.891   Cond. No.                         631.\n",
            "==============================================================================\n",
            "\n",
            "Notes:\n",
            "[1] Standard Errors assume that the covariance matrix of the errors is correctly specified.\n"
          ]
        }
      ]
    },
    {
      "cell_type": "markdown",
      "source": [
        "# Яку зі змінних можна вилучити з моделі?\n",
        "---\n",
        "\n",
        "x2(Urban) бо P>|t| = 0.980, це означає, що змінна Urban не є статистично значущою і її можна вилучити з моделі\n"
      ],
      "metadata": {
        "id": "B1pLIEdCrRUz"
      }
    },
    {
      "cell_type": "markdown",
      "source": [
        "# Завдання 3\n",
        "\n",
        "---\n",
        "Виконайте наступні команди в R:\n",
        "\n",
        "* set .seed (variant)\n",
        "* x1=runif (100)\n",
        "* x2 =(variant/2)* x1+rnorm (100) *variant/10\n",
        "* y=(2*variant)+variant* x1 +(variant/3)* x2+rnorm (100)\n",
        "\n",
        "\n",
        "Яка кореляція між x1 та x2? Оцініть регресію методом найменших квадратів, щоб\n",
        "передбачити y, використовуючи x1 та x2. Чи можна відхилити нульову гіпотезу\n",
        "H0: β1 = 0? Як щодо гіпотези H0: β2 = 0? Побудуйте регресію y на x1. Чи можна\n",
        "відхилити нульову гіпотезу H0: β1 = 0? Побудуйте регресію y на x2. Чи можна\n",
        "відхилити нульову гіпотезу H0: β2 = 0? Поясніть отримані результати.\n",
        "Нехай одне додаткове спостереження було неправильно виміряно."
      ],
      "metadata": {
        "id": "OWBLLgChpU15"
      }
    },
    {
      "cell_type": "code",
      "source": [
        "\n",
        "np.random.seed(variant)\n",
        "\n",
        "x1 = np.random.uniform(size=100)\n",
        "x2 = (variant / 2) * x1 + np.random.randn(100) * variant / 10\n",
        "y = 2 * variant + variant * x1 + (variant / 3) * x2 + np.random.randn(100)\n",
        "\n",
        "correlation = np.corrcoef(x1, x2)[0, 1]\n",
        "print(f\"Кореляція між X1 та X2: {correlation}\")\n",
        "\n",
        "X = np.column_stack((x1, x2))\n",
        "X = sm.add_constant(X)\n",
        "model = sm.OLS(y, X).fit()\n",
        "print(model.summary())\n"
      ],
      "metadata": {
        "colab": {
          "base_uri": "https://localhost:8080/"
        },
        "id": "CKY9REYCnimI",
        "outputId": "f222c22b-ea92-43ee-c996-70b76e2678bd"
      },
      "execution_count": 27,
      "outputs": [
        {
          "output_type": "stream",
          "name": "stdout",
          "text": [
            "Кореляція між X1 та X2: 0.7412773555470475\n",
            "                            OLS Regression Results                            \n",
            "==============================================================================\n",
            "Dep. Variable:                      y   R-squared:                       1.000\n",
            "Model:                            OLS   Adj. R-squared:                  1.000\n",
            "Method:                 Least Squares   F-statistic:                 2.216e+06\n",
            "Date:                Sat, 05 Oct 2024   Prob (F-statistic):          1.01e-226\n",
            "Time:                        12:56:52   Log-Likelihood:                -131.59\n",
            "No. Observations:                 100   AIC:                             269.2\n",
            "Df Residuals:                      97   BIC:                             277.0\n",
            "Df Model:                           2                                         \n",
            "Covariance Type:            nonrobust                                         \n",
            "==============================================================================\n",
            "                 coef    std err          t      P>|t|      [0.025      0.975]\n",
            "------------------------------------------------------------------------------\n",
            "const        109.8556      0.186    590.841      0.000     109.487     110.225\n",
            "x1            55.7525      0.473    117.814      0.000      54.813      56.692\n",
            "x2            18.3132      0.014   1323.331      0.000      18.286      18.341\n",
            "==============================================================================\n",
            "Omnibus:                        2.462   Durbin-Watson:                   2.116\n",
            "Prob(Omnibus):                  0.292   Jarque-Bera (JB):                2.108\n",
            "Skew:                           0.103   Prob(JB):                        0.348\n",
            "Kurtosis:                       3.681   Cond. No.                         90.0\n",
            "==============================================================================\n",
            "\n",
            "Notes:\n",
            "[1] Standard Errors assume that the covariance matrix of the errors is correctly specified.\n"
          ]
        }
      ]
    },
    {
      "cell_type": "markdown",
      "source": [
        "Яка кореляція між x1 та x2? Кореляція між x1 nf x2 дорівнює 0.7412773555470475, це означає що присутній сильний позитивний зв'язок.\n",
        "\n",
        "Чи можна відхилити нульову гіпотезу H0: β1 = 0?  так бо P>|t| = 0.00, що означає те що змінна x1 є статистично значущою\n",
        "Як щодо гіпотези H0: β2 = 0? так бо P>|t| = 0.05, що означає те що змінна x2 є статистично значущою"
      ],
      "metadata": {
        "id": "fpl-MbujtdAO"
      }
    },
    {
      "cell_type": "markdown",
      "source": [
        "# Регресія y на x1 та y на x2\n",
        "\n",
        "Побудуйте регресію y на x1. Чи можна відхилити нульову гіпотезу H0: β1 = 0? Побудуйте регресію y на x2. Чи можна відхилити нульову гіпотезу H0: β2 = 0? Поясніть отримані результати. Нехай одне додаткове спостереження було неправильно виміряно."
      ],
      "metadata": {
        "id": "bfHFvRoxuvyP"
      }
    },
    {
      "cell_type": "code",
      "source": [
        "model_x1 = sm.OLS(y, sm.add_constant(x1)).fit()\n",
        "print(model_x1.summary())\n",
        "\n",
        "model_x2 = sm.OLS(y, sm.add_constant(x2)).fit()\n",
        "print(model_x2.summary())"
      ],
      "metadata": {
        "colab": {
          "base_uri": "https://localhost:8080/"
        },
        "id": "8fbZgpxOuuaI",
        "outputId": "753fc2c7-77b3-484e-8f66-7974557cc885"
      },
      "execution_count": 28,
      "outputs": [
        {
          "output_type": "stream",
          "name": "stdout",
          "text": [
            "                            OLS Regression Results                            \n",
            "==============================================================================\n",
            "Dep. Variable:                      y   R-squared:                       0.605\n",
            "Model:                            OLS   Adj. R-squared:                  0.601\n",
            "Method:                 Least Squares   F-statistic:                     150.0\n",
            "Date:                Sat, 05 Oct 2024   Prob (F-statistic):           1.81e-21\n",
            "Time:                        12:56:55   Log-Likelihood:                -621.65\n",
            "No. Observations:                 100   AIC:                             1247.\n",
            "Df Residuals:                      98   BIC:                             1253.\n",
            "Df Model:                           1                                         \n",
            "Covariance Type:            nonrobust                                         \n",
            "==============================================================================\n",
            "                 coef    std err          t      P>|t|      [0.025      0.975]\n",
            "------------------------------------------------------------------------------\n",
            "const        127.3747     24.792      5.138      0.000      78.175     176.574\n",
            "x1           519.9637     42.460     12.246      0.000     435.702     604.225\n",
            "==============================================================================\n",
            "Omnibus:                       14.636   Durbin-Watson:                   1.972\n",
            "Prob(Omnibus):                  0.001   Jarque-Bera (JB):               19.061\n",
            "Skew:                           0.735   Prob(JB):                     7.26e-05\n",
            "Kurtosis:                       4.554   Cond. No.                         4.42\n",
            "==============================================================================\n",
            "\n",
            "Notes:\n",
            "[1] Standard Errors assume that the covariance matrix of the errors is correctly specified.\n",
            "                            OLS Regression Results                            \n",
            "==============================================================================\n",
            "Dep. Variable:                      y   R-squared:                       0.997\n",
            "Model:                            OLS   Adj. R-squared:                  0.997\n",
            "Method:                 Least Squares   F-statistic:                 3.097e+04\n",
            "Date:                Sat, 05 Oct 2024   Prob (F-statistic):          2.25e-124\n",
            "Time:                        12:56:55   Log-Likelihood:                -380.12\n",
            "No. Observations:                 100   AIC:                             764.2\n",
            "Df Residuals:                      98   BIC:                             769.4\n",
            "Df Model:                           1                                         \n",
            "Covariance Type:            nonrobust                                         \n",
            "==============================================================================\n",
            "                 coef    std err          t      P>|t|      [0.025      0.975]\n",
            "------------------------------------------------------------------------------\n",
            "const        121.4514      1.884     64.470      0.000     117.713     125.190\n",
            "x1            19.5218      0.111    175.985      0.000      19.302      19.742\n",
            "==============================================================================\n",
            "Omnibus:                       11.531   Durbin-Watson:                   2.066\n",
            "Prob(Omnibus):                  0.003   Jarque-Bera (JB):               17.493\n",
            "Skew:                          -0.506   Prob(JB):                     0.000159\n",
            "Kurtosis:                       4.781   Cond. No.                         29.3\n",
            "==============================================================================\n",
            "\n",
            "Notes:\n",
            "[1] Standard Errors assume that the covariance matrix of the errors is correctly specified.\n"
          ]
        }
      ]
    },
    {
      "cell_type": "markdown",
      "source": [
        "# Поясніть отримані результати. Нехай одне додаткове спостереження було неправильно виміряно.\n",
        "\n",
        "\n",
        "---\n",
        "\n",
        "\n",
        "\n",
        "Так 2 гіпотези можна відхилити через те що як у випадку із x1 так і у випадку x2 P>|t| = 0.00 і це означає що змінні є статистично значущими"
      ],
      "metadata": {
        "id": "Zz00d9dSvt5x"
      }
    },
    {
      "cell_type": "markdown",
      "source": [
        "# Виконайте наступні команди в R:\n",
        "\n",
        "\n",
        "---\n",
        "\n",
        "\n",
        "\n",
        "* x1 = c (x1, 0.1)\n",
        "* x2 = c (x2, (variant/2)* 0.9)\n",
        "* y = c (y, 5*variant)\n",
        "\n",
        "Переоцініть попередні лінійні моделі, використовуючи ці нові дані. Дослідіть\n",
        "отриману модель на наявність викидів та спостережень з високим рівнем\n",
        "левереджу."
      ],
      "metadata": {
        "id": "CynyOuObqot7"
      }
    },
    {
      "cell_type": "code",
      "source": [
        "x1 = np.append(x1, 0.1)\n",
        "x2 = np.append(x2, (variant / 2) * 0.9)\n",
        "y = np.append(y, 5 * variant)\n",
        "\n",
        "X_new = np.column_stack((x1, x2))\n",
        "X_new = sm.add_constant(X_new)\n",
        "model_new = sm.OLS(y, X_new).fit()\n",
        "print(model_new.summary())\n"
      ],
      "metadata": {
        "colab": {
          "base_uri": "https://localhost:8080/"
        },
        "id": "oXqcK78KoObD",
        "outputId": "67b04383-83e2-4395-95b4-b0cda960371d"
      },
      "execution_count": 29,
      "outputs": [
        {
          "output_type": "stream",
          "name": "stdout",
          "text": [
            "                            OLS Regression Results                            \n",
            "==============================================================================\n",
            "Dep. Variable:                      y   R-squared:                       0.980\n",
            "Model:                            OLS   Adj. R-squared:                  0.979\n",
            "Method:                 Least Squares   F-statistic:                     2350.\n",
            "Date:                Sat, 05 Oct 2024   Prob (F-statistic):           1.56e-83\n",
            "Time:                        12:56:58   Log-Likelihood:                -477.92\n",
            "No. Observations:                 101   AIC:                             961.8\n",
            "Df Residuals:                      98   BIC:                             969.7\n",
            "Df Model:                           2                                         \n",
            "Covariance Type:            nonrobust                                         \n",
            "==============================================================================\n",
            "                 coef    std err          t      P>|t|      [0.025      0.975]\n",
            "------------------------------------------------------------------------------\n",
            "const        102.0161      5.604     18.203      0.000      90.894     113.138\n",
            "x1           100.3376     13.683      7.333      0.000      73.184     127.491\n",
            "x2            17.0556      0.402     42.464      0.000      16.259      17.853\n",
            "==============================================================================\n",
            "Omnibus:                      197.586   Durbin-Watson:                   1.088\n",
            "Prob(Omnibus):                  0.000   Jarque-Bera (JB):            25186.794\n",
            "Skew:                          -8.258   Prob(JB):                         0.00\n",
            "Kurtosis:                      78.579   Cond. No.                         86.5\n",
            "==============================================================================\n",
            "\n",
            "Notes:\n",
            "[1] Standard Errors assume that the covariance matrix of the errors is correctly specified.\n"
          ]
        }
      ]
    }
  ]
}