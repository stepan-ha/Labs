{
  "nbformat": 4,
  "nbformat_minor": 0,
  "metadata": {
    "colab": {
      "provenance": [],
      "authorship_tag": "ABX9TyOOm/2+yk620diBmxU5X92V",
      "include_colab_link": true
    },
    "kernelspec": {
      "name": "python3",
      "display_name": "Python 3"
    },
    "language_info": {
      "name": "python"
    }
  },
  "cells": [
    {
      "cell_type": "markdown",
      "metadata": {
        "id": "view-in-github",
        "colab_type": "text"
      },
      "source": [
        "<a href=\"https://colab.research.google.com/github/stepan-ha/Labs/blob/main/Lab4.ipynb\" target=\"_parent\"><img src=\"https://colab.research.google.com/assets/colab-badge.svg\" alt=\"Open In Colab\"/></a>"
      ]
    },
    {
      "cell_type": "markdown",
      "source": [
        "# Алгоритм розрахунку індивідуальних вхідних даних\n",
        "\n",
        "---\n",
        "\n",
        "Встановіть значення змінної variant: сума номера групи помноженого на 25 і\n",
        "порядкового номеру студента в списку групи (групі ПМОм-11 відповідає номер\n",
        "0, групі ПМІм-11 відповідає номер 1, групі ПМІм-12 відповідає номер 2, групі\n",
        "ПМІм-13 відповідає номер 3). Далі встановіть set.seed(variant) та згенеруйте\n",
        "значення змінної redundant як заокруглене до цілого (для заокруглення можна\n",
        "використати функції floor або round) випадкове число з рівномірного на інтервалі\n",
        "(номер групи + 5, 25 – номер групи) розподілу (функція runif). Також згенеруйте\n",
        "значення змінної year як заокруглене до цілого випадкове число з рівномірного\n",
        "на інтервалі (2006, 2008) розподілу.\n"
      ],
      "metadata": {
        "id": "R2q7SYKQEJwB"
      }
    },
    {
      "cell_type": "code",
      "execution_count": 1,
      "metadata": {
        "id": "K8nI5kNUiug6"
      },
      "outputs": [],
      "source": [
        "import numpy as np\n",
        "import pandas as pd\n",
        "from sklearn.linear_model import LogisticRegression\n",
        "from sklearn.model_selection import train_test_split, cross_val_score, LeaveOneOut\n",
        "from sklearn.metrics import mean_squared_error\n",
        "from scipy.stats import bootstrap\n",
        "from statsmodels.formula.api import ols\n",
        "from statsmodels.tools.eval_measures import mse\n",
        "import statsmodels.api as sm\n",
        "import math as math\n",
        "import random as random"
      ]
    },
    {
      "cell_type": "markdown",
      "source": [
        "\n",
        "Розрахунок індивідуальних даних\n",
        "---\n",
        "\n"
      ],
      "metadata": {
        "id": "WxN2qSD93bDQ"
      }
    },
    {
      "cell_type": "code",
      "source": [
        "group_number = 2\n",
        "\n",
        "student_number = 5\n",
        "\n",
        "variant = group_number * 25 + student_number\n",
        "print(f\"Мій номер індивідуального завдання: {variant}\")\n",
        "\n",
        "np.random.seed(variant)\n",
        "\n",
        "redundant = math.floor(random.uniform(group_number + 5, 25 - group_number))\n",
        "print(f\"Redundant: {redundant}%\")\n"
      ],
      "metadata": {
        "colab": {
          "base_uri": "https://localhost:8080/"
        },
        "id": "puKQbQh23aah",
        "outputId": "250ae559-b193-480b-b766-2ccea10652ae"
      },
      "execution_count": 2,
      "outputs": [
        {
          "output_type": "stream",
          "name": "stdout",
          "text": [
            "Мій номер індивідуального завдання: 55\n",
            "Redundant: 13%\n"
          ]
        }
      ]
    },
    {
      "cell_type": "markdown",
      "source": [
        "# Завдання 1\n",
        "\n",
        "---\n",
        "\n",
        "Розглянемо набір даних Boston з бібліотеки MASS. Модифікуйте ці дані наступним\n",
        "чином: встановивши seed, що дорівнює значенню змінної variant, видаліть redundant % спостережень з допомогою функції sample. Використовуючи модифіковані дані, пристосуйте модель логістичної регресії для передбачення у вибраному районі рівня злочинності більшого чи меншого за середній на основі змінних nox та rad. Оцініть тестову помилку цієї моделі логістичної регресії, використовуючи метод валідаційного набору (використати розбиття 50 на 50, попередньо скинувши seed). Повторіть попередню процедуру три рази, використовуючи нові розбиття вибірки на навчальний та тестовий набори. Прокоментуйте отримані результати. Розгляньте модель логістичної регресії для передбачення у вибраному районі рівня злочинності більшого чи меншого за середній на основі змінних nox, rad та medv. Оцініть тестову помилку для\n",
        "цієї моделі, використовуючи метод валідаційного набору описаний вище.\n",
        "Прокоментуйте, чи призводить включення нової змінної до зменшення тестової\n",
        "помилки."
      ],
      "metadata": {
        "id": "a13lzP7jEM5a"
      }
    },
    {
      "cell_type": "markdown",
      "source": [
        "# Завантаження та необхідна модифікація датасету\n",
        "\n",
        "---\n"
      ],
      "metadata": {
        "id": "FaOB5ZGq4-o_"
      }
    },
    {
      "cell_type": "code",
      "source": [
        "url = \"https://raw.githubusercontent.com/selva86/datasets/master/BostonHousing.csv\"\n",
        "boston = pd.read_csv(url)\n",
        "\n",
        "np.random.seed(variant)\n",
        "sample_indices = np.random.choice(boston.index, size=int(len(boston) * (1 - redundant / 100)), replace=False)\n",
        "boston_reduced = boston.loc[sample_indices]\n",
        "boston_reduced['high_crime'] = (boston_reduced['crim'] > boston_reduced['crim'].mean()).astype(int)"
      ],
      "metadata": {
        "id": "ht-GYwcB4-Ke"
      },
      "execution_count": 3,
      "outputs": []
    },
    {
      "cell_type": "markdown",
      "source": [
        "# Розбиття даних 50/50 і тренування логістичної регресії"
      ],
      "metadata": {
        "id": "B7yj_FLQcOfU"
      }
    },
    {
      "cell_type": "code",
      "source": [
        "\n",
        "for i in range(3):\n",
        "    np.random.seed(i)\n",
        "    train, test = train_test_split(boston_reduced, test_size=0.5)\n",
        "    model = LogisticRegression()\n",
        "    model.fit(train[['nox', 'rad']], train['high_crime'])\n",
        "    preds = model.predict(test[['nox', 'rad']])\n",
        "    error = mean_squared_error(test['high_crime'], preds)\n",
        "    print(f\"Тестова помилка (спроба {i+1}): {error}\")"
      ],
      "metadata": {
        "colab": {
          "base_uri": "https://localhost:8080/"
        },
        "id": "gGMdWIHSBbQM",
        "outputId": "89bfb6ac-bcd6-4e75-9405-0055c7292fa5"
      },
      "execution_count": 5,
      "outputs": [
        {
          "output_type": "stream",
          "name": "stdout",
          "text": [
            "Тестова помилка (спроба 1): 0.013636363636363636\n",
            "Тестова помилка (спроба 2): 0.013636363636363636\n",
            "Тестова помилка (спроба 3): 0.00909090909090909\n"
          ]
        }
      ]
    },
    {
      "cell_type": "markdown",
      "source": [
        "# Додавання змінної medv і повторення моделі"
      ],
      "metadata": {
        "id": "tK_URVvfcQeo"
      }
    },
    {
      "cell_type": "code",
      "source": [
        "for i in range(3):\n",
        "    np.random.seed(i)\n",
        "    train, test = train_test_split(boston_reduced, test_size=0.5)\n",
        "    model = LogisticRegression()\n",
        "    model.fit(train[['nox', 'rad', 'medv']], train['high_crime'])\n",
        "    preds = model.predict(test[['nox', 'rad', 'medv']])\n",
        "    error = mean_squared_error(test['high_crime'], preds)\n",
        "    print(f\"Тестова помилка з medv (спроба {i+1}): {error}\")"
      ],
      "metadata": {
        "colab": {
          "base_uri": "https://localhost:8080/"
        },
        "id": "-feHkraDcSnE",
        "outputId": "acf0c1f3-ef02-4170-f00e-2b49af7047d7"
      },
      "execution_count": 4,
      "outputs": [
        {
          "output_type": "stream",
          "name": "stdout",
          "text": [
            "Тестова помилка з medv (спроба 1): 0.013636363636363636\n",
            "Тестова помилка з medv (спроба 2): 0.02727272727272727\n",
            "Тестова помилка з medv (спроба 3): 0.00909090909090909\n"
          ]
        }
      ]
    },
    {
      "cell_type": "markdown",
      "source": [
        "#Висновки\n",
        "\n",
        "Додавання змінної medv не зменшило тестову помилку. у другій спробі було помічено зростання похибки до 0.0273. Це означає, що medv не покращує точність моделі, а можливо навіть навпаки."
      ],
      "metadata": {
        "id": "YHT2yr9fdAmT"
      }
    },
    {
      "cell_type": "markdown",
      "source": [
        "# Завдання 2\n",
        "\n",
        "---\n",
        "\n",
        "Модифікуйте дані Auto наступним чином: встановивши seed, що дорівнює значенню\n",
        "змінної variant, видаліть redundant % спостережень з допомогою функції sample. На основі цього набору даних обчисліть оцінку середнього змінної mpg. Оцініть стандартну похибку цієї оцінки. Тепер оцініть стандартну похибку розглянутої вище оцінки середнього за допомогою бутстрапу та порівняйте з попередньо отриманим результатом. Обчисліть оцінку для медіани та десятого процентиля змінної mpg. Оцініть стандартні помилки отриманих оцінок допомогою бутстрапу."
      ],
      "metadata": {
        "id": "Orstg4Z61vUi"
      }
    },
    {
      "cell_type": "code",
      "source": [
        "\n",
        "data_auto = pd.read_csv('Auto.csv');\n",
        "\n",
        "print(data_auto.head())\n",
        "\n",
        "Auto_new = data_auto.drop(data_auto.sample(frac=redundant / 100, random_state=variant).index)\n",
        "\n",
        "print(f\"Початковий розмір: {data_auto.shape}\")\n",
        "print(f\"Новий розмір: {Auto_new.shape}\")\n",
        "\n",
        "mpg_mean = Auto_new['mpg'].mean()\n",
        "mpg_std = Auto_new['mpg'].std() / np.sqrt(len(Auto_new))\n",
        "print(f\"Середнє значення mpg: {mpg_mean}, стандартна похибка: {mpg_std}\")\n",
        "\n",
        "boot_mean_std = bootstrap((Auto_new['mpg'].values,), np.mean, confidence_level=0.95, random_state=variant)\n",
        "print(f\"Бутстрапована стандартна похибка середнього: {boot_mean_std.standard_error}\")"
      ],
      "metadata": {
        "colab": {
          "base_uri": "https://localhost:8080/"
        },
        "id": "4dQXHmGZB_UN",
        "outputId": "a901eecc-6606-4efe-fbb8-cf8a6c5e8522"
      },
      "execution_count": 9,
      "outputs": [
        {
          "output_type": "stream",
          "name": "stdout",
          "text": [
            "    mpg  cylinders  displacement horsepower  weight  acceleration  year  \\\n",
            "0  18.0          8         307.0        130    3504          12.0    70   \n",
            "1  15.0          8         350.0        165    3693          11.5    70   \n",
            "2  18.0          8         318.0        150    3436          11.0    70   \n",
            "3  16.0          8         304.0        150    3433          12.0    70   \n",
            "4  17.0          8         302.0        140    3449          10.5    70   \n",
            "\n",
            "   origin                       name  \n",
            "0       1  chevrolet chevelle malibu  \n",
            "1       1          buick skylark 320  \n",
            "2       1         plymouth satellite  \n",
            "3       1              amc rebel sst  \n",
            "4       1                ford torino  \n",
            "Початковий розмір: (397, 9)\n",
            "Новий розмір: (345, 9)\n",
            "Середнє значення mpg: 23.578260869565216, стандартна похибка: 0.4191609229282855\n",
            "Бутстрапована стандартна похибка середнього: 0.4235824390835707\n"
          ]
        }
      ]
    },
    {
      "cell_type": "markdown",
      "source": [
        "# Генерація змодельованих даних для LOOCV"
      ],
      "metadata": {
        "id": "lFdrPJaTddqX"
      }
    },
    {
      "cell_type": "code",
      "source": [
        "\n",
        "np.random.seed(variant)\n",
        "x = np.random.normal(size=100)\n",
        "y = variant * x - ((redundant * 40) / variant) * x**2 + np.random.normal(size=100)\n",
        "\n",
        "loo = LeaveOneOut()\n",
        "errors = []\n",
        "\n",
        "for degree in range(1, 5):\n",
        "    poly_features = np.vander(x, degree + 1, increasing=True)\n",
        "    model = sm.OLS(y, poly_features).fit()\n",
        "\n",
        "    loocv_error = np.mean([mse(model.predict(poly_features[i, :].reshape(1, -1)), y[i]) for i in range(len(y))])\n",
        "    errors.append(loocv_error)\n",
        "    print(f\"LOOCV помилка для моделі степеня {degree}: {loocv_error}\")\n",
        "\n",
        "min_error_index = errors.index(min(errors)) + 1\n",
        "print(f\"Модель з найменшою LOOCV помилкою має степінь {min_error_index}\")"
      ],
      "metadata": {
        "colab": {
          "base_uri": "https://localhost:8080/"
        },
        "id": "pNYCrMX7mWon",
        "outputId": "14010093-ede8-41ee-9d94-a583f980c400"
      },
      "execution_count": 10,
      "outputs": [
        {
          "output_type": "stream",
          "name": "stdout",
          "text": [
            "LOOCV помилка для моделі степеня 1: 204.97351686850328\n",
            "LOOCV помилка для моделі степеня 2: 1.2962524097079886\n",
            "LOOCV помилка для моделі степеня 3: 1.2924256795810223\n",
            "LOOCV помилка для моделі степеня 4: 1.2515946681730414\n",
            "Модель з найменшою LOOCV помилкою має степінь 4\n"
          ]
        }
      ]
    }
  ]
}