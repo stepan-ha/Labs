{
  "nbformat": 4,
  "nbformat_minor": 0,
  "metadata": {
    "colab": {
      "provenance": [],
      "authorship_tag": "ABX9TyN7+VfTnXyKpV/SpJeeJsNA",
      "include_colab_link": true
    },
    "kernelspec": {
      "name": "python3",
      "display_name": "Python 3"
    },
    "language_info": {
      "name": "python"
    }
  },
  "cells": [
    {
      "cell_type": "markdown",
      "metadata": {
        "id": "view-in-github",
        "colab_type": "text"
      },
      "source": [
        "<a href=\"https://colab.research.google.com/github/stepan-ha/Labs/blob/main/Lab3K.ipynb\" target=\"_parent\"><img src=\"https://colab.research.google.com/assets/colab-badge.svg\" alt=\"Open In Colab\"/></a>"
      ]
    },
    {
      "cell_type": "markdown",
      "source": [
        "# **Модель Блека-Шоулза. Метод Монте-Карло**"
      ],
      "metadata": {
        "id": "XkkCH9rllY2x"
      }
    },
    {
      "cell_type": "markdown",
      "source": [
        "# **Інструкції**\n",
        "Нехай маємо європейські та американські Call та Put опціони з такими параметрами:\n",
        "* ціна відповідної акції в теперішній момент S=100$,\n",
        "* ціна виконання опціону E=100$,\n",
        "* час виконання опціону T = 1 рік,\n",
        "* відсоткова ставка безризикового активу r=0.05,\n",
        "* волатильність відповідної акції sigma=0.2.\n",
        "Розробити програму, яка розраховує вартість європейських та американських Call та Put опціонів в теперішній момент часу t=0 за допомогою біноміального методу.\n",
        "Для європейських Call та Put опціонів порівняти отримані результати з результатами, отриманими за формулами Блека-Шоулза."
      ],
      "metadata": {
        "id": "uEar9Pd_ld0w"
      }
    },
    {
      "cell_type": "markdown",
      "source": [
        "# Імпорт бібліотек\n",
        "\n",
        "---\n",
        "\n"
      ],
      "metadata": {
        "id": "85z00dTalkyM"
      }
    },
    {
      "cell_type": "code",
      "execution_count": 1,
      "metadata": {
        "id": "LJWKvZxAlEbC"
      },
      "outputs": [],
      "source": [
        "import numpy as np\n",
        "from scipy.stats import norm\n"
      ]
    },
    {
      "cell_type": "markdown",
      "source": [
        "# Ініціалізація Змінних\n",
        "\n",
        "---\n",
        "\n"
      ],
      "metadata": {
        "id": "ChxTXhIMltRv"
      }
    },
    {
      "cell_type": "code",
      "source": [
        "\n",
        "S = 100\n",
        "E = 100\n",
        "T = 1\n",
        "r = 0.05\n",
        "sigma = 0.2\n",
        "N = 100"
      ],
      "metadata": {
        "id": "M_GKzBc7lzF4"
      },
      "execution_count": 2,
      "outputs": []
    },
    {
      "cell_type": "markdown",
      "source": [
        "# Формула Блека-Шоулза\n",
        "\n",
        "---\n",
        "\n"
      ],
      "metadata": {
        "id": "1fY1TmTfJWBk"
      }
    },
    {
      "cell_type": "code",
      "source": [
        "def black_scholes(S, E, T, r, sigma):\n",
        "    d1 = (np.log(S / E) + (r + 0.5 * sigma ** 2) * T) / (sigma * np.sqrt(T))\n",
        "    d2 = d1 - sigma * np.sqrt(T)\n",
        "\n",
        "    call_price = S * norm.cdf(d1) - E * np.exp(-r * T) * norm.cdf(d2)\n",
        "    put_price = E * np.exp(-r * T) * norm.cdf(-d2) - S * norm.cdf(-d1)\n",
        "\n",
        "    return call_price, put_price"
      ],
      "metadata": {
        "id": "PcL1NOaWl2EE"
      },
      "execution_count": 3,
      "outputs": []
    },
    {
      "cell_type": "markdown",
      "source": [
        "# Біномінальний Метод\n",
        "\n",
        "\n",
        "\n",
        "\n",
        "---\n",
        "\n"
      ],
      "metadata": {
        "id": "vrPqvACMl3Ni"
      }
    },
    {
      "cell_type": "code",
      "source": [
        "def binomial_option_pricing(S, E, T, r, sigma, N, option_type, european):\n",
        "    dt = T / N\n",
        "    u = np.exp(sigma * np.sqrt(dt))\n",
        "    d = 1 / u\n",
        "    p = (np.exp(r * dt) - d) / (u - d)\n",
        "\n",
        "    ST = np.array([S * (u ** j) * (d ** (N - j)) for j in range(N + 1)])\n",
        "    if option_type == \"call\":\n",
        "        option_values = np.maximum(0, ST - E)\n",
        "    else:\n",
        "        option_values = np.maximum(0, E - ST)\n",
        "\n",
        "    for i in range(N - 1, -1, -1):\n",
        "        option_values = (p * option_values[1:i + 2] + (1 - p) * option_values[:i + 1]) * np.exp(-r * dt)\n",
        "\n",
        "        if not european:\n",
        "            ST = np.array([S * (u ** j) * (d ** (i - j)) for j in range(i + 1)])\n",
        "            if option_type == \"call\":\n",
        "                option_values = np.maximum(option_values, ST - E)\n",
        "            else:\n",
        "                option_values = np.maximum(option_values, E - ST)\n",
        "\n",
        "    return option_values[0]"
      ],
      "metadata": {
        "id": "Gf3-ZrK8JVmA"
      },
      "execution_count": 4,
      "outputs": []
    },
    {
      "cell_type": "markdown",
      "source": [
        "# Розв'язок\n",
        "\n",
        "---\n",
        "\n"
      ],
      "metadata": {
        "id": "m1lA9oQ1l-W-"
      }
    },
    {
      "cell_type": "code",
      "source": [
        "bs_call, bs_put = black_scholes(S, E, T, r, sigma)\n",
        "\n",
        "\n",
        "binomial_euro_call = binomial_option_pricing(S, E, T, r, sigma, N, \"call\", european=True)\n",
        "binomial_euro_put = binomial_option_pricing(S, E, T, r, sigma, N, \"put\", european=True)\n",
        "binomial_call = binomial_option_pricing(S, E, T, r, sigma, N, \"call\", european=False)\n",
        "binomial_put = binomial_option_pricing(S, E, T, r, sigma, N, \"put\", european=False)\n",
        "\n",
        "print(f\"Оптимальний Call: {bs_call}\")\n",
        "print(f\"Оптимальний Put: {bs_put}\")\n",
        "\n",
        "print(f\"Європейські Call: {binomial_euro_call}\")\n",
        "print(f\"Європейські Put: {binomial_euro_put}\")\n",
        "\n",
        "print(f\"Не Європейські Call: {binomial_call}\")\n",
        "print(f\"Не Європейські Put: {binomial_put}\")\n",
        "\n"
      ],
      "metadata": {
        "colab": {
          "base_uri": "https://localhost:8080/"
        },
        "id": "mj8roA-Kmttk",
        "outputId": "ced43e6d-cbed-41e7-d5bd-99d51075ccb0"
      },
      "execution_count": 6,
      "outputs": [
        {
          "output_type": "stream",
          "name": "stdout",
          "text": [
            "Оптимальний Call: 10.450583572185565\n",
            "Оптимальний Put: 5.573526022256971\n",
            "Європейські Call: 10.430611662249113\n",
            "Європейські Put: 5.553554112321353\n",
            "Не Європейські Call: 10.430611662249113\n",
            "Не Європейські Put: 6.082354409142444\n"
          ]
        }
      ]
    }
  ]
}