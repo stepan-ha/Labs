{
  "nbformat": 4,
  "nbformat_minor": 0,
  "metadata": {
    "colab": {
      "provenance": [],
      "authorship_tag": "ABX9TyMrM9AI66n9beuGNTQPmau2",
      "include_colab_link": true
    },
    "kernelspec": {
      "name": "python3",
      "display_name": "Python 3"
    },
    "language_info": {
      "name": "python"
    }
  },
  "cells": [
    {
      "cell_type": "markdown",
      "metadata": {
        "id": "view-in-github",
        "colab_type": "text"
      },
      "source": [
        "<a href=\"https://colab.research.google.com/github/stepan-ha/Labs/blob/main/Lab2K.ipynb\" target=\"_parent\"><img src=\"https://colab.research.google.com/assets/colab-badge.svg\" alt=\"Open In Colab\"/></a>"
      ]
    },
    {
      "cell_type": "markdown",
      "source": [
        "# **Модель Блека-Шоулза. Метод Монте-Карло**"
      ],
      "metadata": {
        "id": "XkkCH9rllY2x"
      }
    },
    {
      "cell_type": "markdown",
      "source": [
        "# **Інструкції**\n",
        "Нехай маємо європейські Call та Put опціони з такими параметрами:\n",
        "* ціна відповідної акції в теперішній момент S=100$,\n",
        "* ціна виконання опціону E=100$,\n",
        "* час виконання опціону T = 1 рік,\n",
        "* відсоткова ставка безризикового активу r=0.05,\n",
        "* середня річна дохідність акції mu=0.1,\n",
        "* волатильність відповідної акції sigma=0.2.\n",
        "Розробити програму, яка:\n",
        "\n",
        "1.   розраховує вартість європейських Call та Put опціонів в теперішній момент часу t=0 за формулами Блека-Шоулза;\n",
        "2.   розраховує вартість європейських Call та Put опціонів в теперішній момент часу t=0 за допомогою методу Монте-Карло.\n",
        "\n",
        "Порівняти отримані результати."
      ],
      "metadata": {
        "id": "uEar9Pd_ld0w"
      }
    },
    {
      "cell_type": "markdown",
      "source": [
        "# Імпорт бібліотек\n",
        "\n",
        "---\n",
        "\n"
      ],
      "metadata": {
        "id": "85z00dTalkyM"
      }
    },
    {
      "cell_type": "code",
      "execution_count": 1,
      "metadata": {
        "id": "LJWKvZxAlEbC"
      },
      "outputs": [],
      "source": [
        "import numpy as np\n",
        "from scipy.stats import norm"
      ]
    },
    {
      "cell_type": "markdown",
      "source": [
        "# Ініціалізація Змінних\n",
        "\n",
        "---\n",
        "\n"
      ],
      "metadata": {
        "id": "ChxTXhIMltRv"
      }
    },
    {
      "cell_type": "code",
      "source": [
        "\n",
        "S = 100\n",
        "E = 100\n",
        "T = 1\n",
        "r = 0.05\n",
        "mu = 0.1\n",
        "sigma = 0.2"
      ],
      "metadata": {
        "id": "M_GKzBc7lzF4"
      },
      "execution_count": 2,
      "outputs": []
    },
    {
      "cell_type": "markdown",
      "source": [
        "# Формула Блека-Шоулза\n",
        "\n",
        "---\n",
        "\n"
      ],
      "metadata": {
        "id": "1fY1TmTfJWBk"
      }
    },
    {
      "cell_type": "code",
      "source": [
        "def black_scholes_call_put(S, E, T, r, sigma):\n",
        "    d1 = (np.log(S / E) + (r + 0.5 * sigma ** 2) * T) / (sigma * np.sqrt(T))\n",
        "    d2 = d1 - sigma * np.sqrt(T)\n",
        "\n",
        "    call_price = S * norm.cdf(d1) - E * np.exp(-r * T) * norm.cdf(d2)\n",
        "    put_price = E * np.exp(-r * T) * norm.cdf(-d2) - S * norm.cdf(-d1)\n",
        "\n",
        "    return call_price, put_price"
      ],
      "metadata": {
        "id": "PcL1NOaWl2EE"
      },
      "execution_count": 3,
      "outputs": []
    },
    {
      "cell_type": "markdown",
      "source": [
        "# Формула Методу Монте-Карло\n",
        "\n",
        "---\n",
        "\n"
      ],
      "metadata": {
        "id": "vrPqvACMl3Ni"
      }
    },
    {
      "cell_type": "code",
      "source": [
        "def monte_carlo_call_put(S, E, T, r, sigma, iterations=100000):\n",
        "    Z = np.random.standard_normal(iterations)\n",
        "    ST = S * np.exp((r - 0.5 * sigma ** 2) * T + sigma * np.sqrt(T) * Z)\n",
        "\n",
        "    call_payoff = np.maximum(ST - E, 0)\n",
        "    put_payoff = np.maximum(E - ST, 0)\n",
        "\n",
        "    call_price_mc = np.exp(-r * T) * np.mean(call_payoff)\n",
        "    put_price_mc = np.exp(-r * T) * np.mean(put_payoff)\n",
        "\n",
        "    return call_price_mc, put_price_mc"
      ],
      "metadata": {
        "id": "Gf3-ZrK8JVmA"
      },
      "execution_count": 4,
      "outputs": []
    },
    {
      "cell_type": "markdown",
      "source": [
        "# Розв'язок\n",
        "\n",
        "---\n",
        "\n"
      ],
      "metadata": {
        "id": "m1lA9oQ1l-W-"
      }
    },
    {
      "cell_type": "code",
      "source": [
        "\n",
        "call_bs, put_bs = black_scholes_call_put(S, E, T, r, sigma)\n",
        "\n",
        "call_mc, put_mc = monte_carlo_call_put(S, E, T, r, sigma)\n",
        "\n",
        "print(f\"Вартість Call (Блек-Шоулз): {call_bs:.2f}, Вартість Put (Блек-Шоулз): {put_bs:.2f}\")\n",
        "print(f\"Вартість Call (Монте-Карло): {call_mc:.2f}, Вартість Put (Монте-Карло): {put_mc:.2f}\")\n"
      ],
      "metadata": {
        "colab": {
          "base_uri": "https://localhost:8080/"
        },
        "id": "mj8roA-Kmttk",
        "outputId": "cf846786-e641-4f91-a18e-eeddc7ab6b65"
      },
      "execution_count": 5,
      "outputs": [
        {
          "output_type": "stream",
          "name": "stdout",
          "text": [
            "Вартість Call (Блек-Шоулз): 10.45, Вартість Put (Блек-Шоулз): 5.57\n",
            "Вартість Call (Монте-Карло): 10.38, Вартість Put (Монте-Карло): 5.57\n"
          ]
        }
      ]
    }
  ]
}